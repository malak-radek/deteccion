{
 "cells": [
  {
   "cell_type": "code",
   "execution_count": null,
   "id": "e24da8e8",
   "metadata": {},
   "outputs": [],
   "source": [
    "import cv2 as cv\n",
    "import imutils\n",
    "import os\n",
    "import numpy as np\n",
    "x1, y1=210, 60\n",
    "x2, y2=350, 412\n",
    "count=0\n",
    "cap= cv.VideoCapture(0)\n",
    "datos='n'\n",
    "if not  os.path.exists(datos):\n",
    "    print('carpeta creada:', datos)\n",
    "    os.makedirs(datos)\n",
    "\n",
    "while True:\n",
    "    # Capture frame-by-frame\n",
    "    ret, frame = cap.read()\n",
    "    # if frame is read correctly ret is True\n",
    "    if not ret:\n",
    "        print(\"Can't receive frame (stream end?). Exiting ...\")\n",
    "        break\n",
    "    imaux=frame.copy()\n",
    "    cv.rectangle(frame, (x1, y1), (x2, y2), (0,255,0), 2)\n",
    "    obj=imaux[y1:y2,x1:x2]\n",
    "    obj=imutils.resize(obj, width=38)\n",
    "    if cv.waitKey(1) == ord('s'):\n",
    "        cv.imwrite(datos+'/objeto_{}.jpg'.format(count), obj)\n",
    "        print('imagen almacenada: ', 'objeto_{}.jpg', format(count))\n",
    "        count =count+1;\n",
    "    cv.imshow('frame', frame)\n",
    "    cv.imshow('obj', obj)\n",
    "\n",
    "    if cv.waitKey(1) == ord('q'):\n",
    "        break\n",
    "cap.release()\n",
    "cv.destroyAllWindows()"
   ]
  },
  {
   "cell_type": "code",
   "execution_count": 22,
   "id": "7823077f",
   "metadata": {},
   "outputs": [],
   "source": [
    "import cv2 as cv\n",
    "\n",
    "cap=cv.VideoCapture(0)\n",
    "\n",
    "lata=cv.CascadeClassifier('cascade.xml')\n",
    "\n",
    "while True:\n",
    "    ret, frame =cap.read()\n",
    "    gray=cv.cvtColor(frame, cv.COLOR_BGR2GRAY)\n",
    "    refresco=lata.detectMultiScale(gray, scaleFactor=3.6, minNeighbors=150, minSize=(50, 50))\n",
    "    for(x, y, w, h) in refresco:\n",
    "        cv.rectangle(frame, (x, y), (x+w, y+h), (0, 255, 0), 2)\n",
    "        cv.putText(frame, 'frasco/botella', (x, y-10), 2, 0.7, (0, 255, 0), 2, cv.LINE_AA)\n",
    "    cv.imshow('frame', frame)\n",
    "    if cv.waitKey(1) == ord('q'):\n",
    "        break\n",
    "cap.release()\n",
    "cv.destroyAllWindows()  "
   ]
  },
  {
   "cell_type": "code",
   "execution_count": null,
   "id": "b93852aa",
   "metadata": {},
   "outputs": [],
   "source": []
  },
  {
   "cell_type": "code",
   "execution_count": null,
   "id": "b9e9726a",
   "metadata": {},
   "outputs": [],
   "source": []
  }
 ],
 "metadata": {
  "kernelspec": {
   "display_name": "Python 3 (ipykernel)",
   "language": "python",
   "name": "python3"
  },
  "language_info": {
   "codemirror_mode": {
    "name": "ipython",
    "version": 3
   },
   "file_extension": ".py",
   "mimetype": "text/x-python",
   "name": "python",
   "nbconvert_exporter": "python",
   "pygments_lexer": "ipython3",
   "version": "3.10.4"
  }
 },
 "nbformat": 4,
 "nbformat_minor": 5
}
